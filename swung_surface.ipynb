{
  "cells": [
    {
      "cell_type": "markdown",
      "metadata": {},
      "source": [
        "# Swung Surface — 수식 보강판\n",
        "\n",
        "Swung surface는 회전체(surface of revolution)의 일반화로, **프로파일 곡선**을 축 주위로 회전시키되 회전 각도와 스케일을 **트래젝터리(trajectory) 곡선**이 지배하도록 만든 곡면입니다. 수식은 GitHub에서 잘 렌더링되도록 이 노트북에 정리했습니다."
      ]
    },
    {
      "cell_type": "markdown",
      "metadata": {},
      "source": [
        "## 1) 구성 요소\n",
        "\n",
        "- 프로파일 곡선 ( $xz$-평면 )  \n",
        "$$\\beta(v) = (x(v), 0, z(v)), \\quad x(v) \\ge 0$$\n",
        "\n",
        "- 트래젝터리 곡선 ( $xy$-평면 )  \n",
        "$$\\gamma(u) = (a(u), b(u))$$  \n",
        "또는 극좌표 표기  \n",
        "$$\\gamma(u)=(\\rho(u)\\cos\\theta(u),\\,\\rho(u)\\sin\\theta(u)).$$"
      ]
    },
    {
      "cell_type": "markdown",
      "metadata": {},
      "source": [
        "## 2) 기본 파라메트릭 방정식\n",
        "\n",
        "$$ S(u,v) = \\big(x(v)a(u),\\; x(v)b(u),\\; z(v)\\big). $$\n",
        "\n",
        "극좌표형:  \n",
        "$$ S(u,v) = \\big(\\rho(u)x(v)\\cos\\theta(u),\\; \\rho(u)x(v)\\sin\\theta(u),\\; z(v)\\big). $$\n",
        "\n",
        "> 해석: 고정된 $v=v_0$에서는 수평 단면이 $x(v_0)$배 스케일된 $\\gamma(u)$ 형태를 따르고, 고정된 $u=u_0$에서는 수직 단면이 $\\beta(v)$의 형상을 유지합니다."
      ]
    },
    {
      "cell_type": "markdown",
      "metadata": {},
      "source": [
        "## 3) 편미분, 법선, 제1기본형식\n",
        "\n",
        "편미분  \n",
        "$$ S_u = (x(v)a'(u),\\; x(v)b'(u),\\; 0),\\qquad S_v = (x'(v)a(u),\\; x'(v)b(u),\\; z'(v)). $$\n",
        "\n",
        "법선(방향)  \n",
        "$$ S_u \\times S_v = \\big(x\\,b'\\,z',\\; -x\\,a'\\,z',\\; x\\,x'\\,(a'b - b'a)\\big). $$\n",
        "\n",
        "제1기본형식  \n",
        "$$ E = x(v)^2\\big(a'(u)^2+b'(u)^2\\big), \\quad F = x(v)x'(v)\\big(a(u)a'(u)+b(u)b'(u)\\big), \\quad G = x'(v)^2\\big(a(u)^2+b(u)^2\\big)+z'(v)^2. $$\n",
        "\n",
        "> **정칙성**: $x(v)>0$이고 $\\gamma'(u)\\neq 0$, 그리고 $(x'(v),z'(v))\\neq (0,0)$이면 일반적으로 $S_u\\times S_v\\neq 0$입니다."
      ]
    },
    {
      "cell_type": "markdown",
      "metadata": {},
      "source": [
        "## 4) 특수화 예시\n",
        "- **회전체**: $a(u)=\\cos u,\\ b(u)=\\sin u$이면 표준 회전체.  \n",
        "$$ S(u,v)=(x(v)\\cos u,\\ x(v)\\sin u,\\ z(v)). $$\n",
        "- **튜브류**: $x(v)=R$ (상수), $z(v)=v$ 등."
      ]
    },
    {
      "cell_type": "markdown",
      "metadata": {},
      "source": [
        "## 5) NURBS 기반 구현 팁\n",
        "동차 좌표 관점에서 제어점 텐서곱 구성:  \n",
        "$$ C_{i,j} = \\big(x_j a_i,\\ x_j b_i,\\ z_j,\\ w^{(\\gamma)}_i w^{(\\beta)}_j\\big). $$\n",
        "가중치는 곱으로, 좌표는 $(X,Y,Z)=(x_j a_i,\\ x_j b_i,\\ z_j)$. 두 곡선의 차수/매듭은 정렬(차수 상승+매듭 병합) 후 사용."
      ]
    },
    {
      "cell_type": "markdown",
      "metadata": {},
      "source": [
        "## 6) 요약\n",
        "- 기본식: $S(u,v)=(x(v)a(u),\\ x(v)b(u),\\ z(v))$  \n",
        "- $\\beta$: 수직 형상, $\\gamma$: 수평 단면 모양·스케일  \n",
        "- NURBS: 제어점 텐서곱 + 가중치 곱으로 구현 가능"
      ]
    }
  ],
  "metadata": {
    "kernelspec": {
      "display_name": "Python 3",
      "language": "python",
      "name": "python3"
    },
    "language_info": {
      "name": "python",
      "version": "3.x"
    }

```cpp
#include <iostream>
using namespace std;

int main() {
    cout << "Hello, JungHwan!" << endl;
    return 0;
}

  },
  "nbformat": 4,
  "nbformat_minor": 5
}
